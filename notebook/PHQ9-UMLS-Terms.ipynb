{
 "cells": [
  {
   "cell_type": "markdown",
   "metadata": {},
   "source": [
    "# Generate PHQ9 Terms + UMLS Synonyms"
   ]
  },
  {
   "cell_type": "code",
   "execution_count": 1,
   "metadata": {
    "collapsed": false
   },
   "outputs": [],
   "source": [
    "import re\n",
    "import mysql.connector\n"
   ]
  },
  {
   "cell_type": "code",
   "execution_count": 2,
   "metadata": {
    "collapsed": true
   },
   "outputs": [],
   "source": [
    "import string\n",
    "\n",
    "class MetaNorm(object):\n",
    "    \"\"\"Normalize UMLS Metathesaurus concept strings.\"\"\"\n",
    "    def __init__(self, function=lambda x: x):\n",
    "        # TTY in [OF,FN] suffixes\n",
    "        suffixes = ['qualifier value', 'life style', 'cell structure', 'domestic', 'bird', 'organism',\n",
    "                    'context\\\\-dependent category', 'inactive concept',\n",
    "                    'navigational concept', 'lck', 'record artifact',\n",
    "                    'core metadata concept', 'substance', 'event',\n",
    "                    'organism', 'person', 'attribute', 'procedure',\n",
    "                    'tumor staging', 'a', 'cell', 'chloroaniline',\n",
    "                    'product', 'specimen', 'observable entity',\n",
    "                    'racial group', 'si', 'namespace concept',\n",
    "                    'environment', 'social concept', 'ras', 'unspecified',\n",
    "                    'special concept', 'staging scale', 'disorder',\n",
    "                    'geographic location', 'occupation', 'ethnic group',\n",
    "                    'body structure', 'situation', 'physical force',\n",
    "                    'trans', 'finding', 'epoxymethano', 'linkage concept',\n",
    "                    'assessment scale', 'metadata', 'link assertion',\n",
    "                    'dithiocarbamates', 'foundation metadata concept',\n",
    "                    'morphologic abnormality', 'physical object']\n",
    "        self.of_fn_rgx = \"\\(({})\\)$\".format(\"|\".join(sorted(suffixes, key=len, reverse=1)))\n",
    "        self.function = function\n",
    "\n",
    "    def normalize(self, s):\n",
    "        '''\n",
    "        Heuristics for stripping non-essential UMLS string clutter\n",
    "\n",
    "        :param s:\n",
    "        :return:\n",
    "        '''\n",
    "        s = s.replace(\"--\", \" \")\n",
    "        s = re.sub(\"[(\\[<].+[>)\\]]$\", \"\", s)        \n",
    "        s = re.sub(\"(\\[brand name\\]|[,]* NOS)+\", \"\", s).strip()  \n",
    "        s = s.strip().strip(\"_\").strip(\":\")\n",
    "        s = re.sub(\"(\\[.{1}\\])+\", \"\", s).strip()\n",
    "        s = re.sub(\"\\-RETIRED\\-$\", \"\", s).strip()\n",
    "        s = re.sub(\"BOLD[:].+$\", \"\", s).strip()\n",
    "        s = re.sub(\" @ @ \", \" \", s).strip()\n",
    "        # normalize TTY in [OF,FN]\n",
    "        s = re.sub(self.of_fn_rgx, \"\", s).strip()\n",
    "        # remove digits/stray punctuation\n",
    "        s = re.sub(\"^([0-9]+[{}]*)+$\".format(string.punctuation), \"\", s).strip()\n",
    "        # custom normalize function\n",
    "        s = self.function(s)\n",
    "        \n",
    "        return s"
   ]
  },
  {
   "cell_type": "code",
   "execution_count": 3,
   "metadata": {
    "collapsed": true
   },
   "outputs": [],
   "source": [
    "# PHQ9 seed terms\n",
    "terms = [\n",
    "    'interest', 'pleasure', \n",
    "    'depressed', 'hopeless', 'feeling down', 'depressed', 'hopeless',\n",
    "    'sleep', 'asleep', 'sleeping', 'sleepy',\n",
    "    'tired', 'energy',\n",
    "    'appetite', 'eating', 'overeating',\n",
    "    'bad', 'fail', 'failure', 'let down',\n",
    "    'concentration', 'concentrating',\n",
    "    'slow', 'slowly', 'fidgety', 'restless', 'moving slow', 'slowly', 'speaking slow',\n",
    "    'dead', 'hurt', 'hurting', 'suicide', 'hurt self', 'better off dead' \n",
    "]"
   ]
  },
  {
   "cell_type": "code",
   "execution_count": 4,
   "metadata": {
    "collapsed": false
   },
   "outputs": [],
   "source": [
    "import collections\n",
    "\n",
    "query = (\"SELECT MRCONSO.CUI, STR FROM MRCONSO, MRSTY \"\n",
    "         \"WHERE STR like %s AND MRSTY.CUI=MRCONSO.CUI\")\n",
    "\n",
    "cnx = mysql.connector.connect(user='fries', database='2014AB')\n",
    "cursor = cnx.cursor()\n",
    "\n",
    "# map PHQ9 seed terms to UMLS unique concept identifiers\n",
    "concepts = collections.defaultdict(set)\n",
    "for t in terms:\n",
    "    cursor.execute(query, (t,))\n",
    "    for m in cursor:\n",
    "        concepts[t].add(m[0])\n",
    "                                   "
   ]
  },
  {
   "cell_type": "markdown",
   "metadata": {},
   "source": [
    "## Build Synonyms"
   ]
  },
  {
   "cell_type": "code",
   "execution_count": 20,
   "metadata": {
    "collapsed": false
   },
   "outputs": [],
   "source": [
    "query = (\"SELECT MRCONSO.CUI, STR, MRSTY.STY STR FROM MRCONSO, MRSTY \"\n",
    "         \"WHERE MRCONSO.CUI=%s AND MRSTY.CUI=MRCONSO.CUI AND \"\n",
    "         \"STY IN ('Finding', 'Mental or Behavioral Dysfunction', 'Qualitative Concept', 'Sign or Symptom', 'Mental Process')\")\n",
    "\n",
    "metanorm = MetaNorm()\n",
    "\n",
    "termset = {}\n",
    "\n",
    "for t in concepts:\n",
    "    cuis = concepts[t]\n",
    "    for c in cuis:\n",
    "        cursor.execute(query, (c,))\n",
    "        for m in cursor:\n",
    "            #print(m)\n",
    "            cui, s, sty = m\n",
    "            s = metanorm.normalize(s).strip()\n",
    "            if s:\n",
    "                s = s.lower()\n",
    "                termset[s] = (cui,s,sty)\n",
    "           \n",
    "     "
   ]
  },
  {
   "cell_type": "code",
   "execution_count": 21,
   "metadata": {
    "collapsed": false,
    "scrolled": false
   },
   "outputs": [
    {
     "name": "stdout",
     "output_type": "stream",
     "text": [
      "agitate\tC0085631\tSign or Symptom\n",
      "agitated\tC0085631\tSign or Symptom\n",
      "agitated - symptom\tC0085631\tSign or Symptom\n",
      "agitated behavior\tC0085631\tSign or Symptom\n",
      "agitated behaviour\tC0085631\tSign or Symptom\n",
      "agitates\tC0085631\tSign or Symptom\n",
      "agitation\tC0085631\tSign or Symptom\n",
      "agitation, psychomotor\tC0085631\tSign or Symptom\n",
      "asleep\tC0424522\tFinding\n",
      "attention concentration\tC0086045\tMental Process\n",
      "bad\tC0205169\tQualitative Concept\n",
      "badly\tC0205169\tQualitative Concept\n",
      "cancer patients and depression and suicide\tC0812393\tMental or Behavioral Dysfunction\n",
      "cancer patients and suicide and depression\tC0812393\tMental or Behavioral Dysfunction\n",
      "cannot see a future\tC0150041\tFinding\n",
      "concentration\tC0086045\tMental Process\n",
      "concentration, function\tC0086045\tMental Process\n",
      "concentrations\tC0086045\tMental Process\n",
      "consciousness decreased\tC0549249\tFinding\n",
      "consciousness, level depressed\tC0549249\tFinding\n",
      "dead\tC1546956\tFinding\n",
      "death\tC1306577\tFinding\n",
      "death adverse event not associated with more specific ctcae term\tC1306577\tFinding\n",
      "decreased consciousness\tC0549249\tFinding\n",
      "depressed\tC0549249\tFinding\n",
      "depressed level of consciousness\tC0549249\tFinding\n",
      "depressed mood\tC0344315\tFinding\n",
      "depressing\tC0344315\tFinding\n",
      "depression\tC0344315\tFinding\n",
      "depression and suicide\tC0812393\tMental or Behavioral Dysfunction\n",
      "depression moods\tC0344315\tFinding\n",
      "died\tC1546956\tFinding\n",
      "dies patient\tC1306577\tFinding\n",
      "drowsiness\tC0013144\tFinding\n",
      "drowsiness, function\tC0013144\tFinding\n",
      "drowsinesses\tC0013144\tFinding\n",
      "drowsy\tC0013144\tFinding\n",
      "energy\tC0424589\tFinding\n",
      "enjoyment\tC0679105\tMental Process\n",
      "excessive eating\tC0020505\tMental or Behavioral Dysfunction\n",
      "excessive eating - polyphagia\tC0020505\tMental or Behavioral Dysfunction\n",
      "excessive overactivity\tC0085631\tSign or Symptom\n",
      "excitement, psychomotor\tC0085631\tSign or Symptom\n",
      "feeling agitated\tC0085631\tSign or Symptom\n",
      "feeling down\tC0344315\tFinding\n",
      "feeling hopeless\tC0150041\tFinding\n",
      "feeling low\tC0344315\tFinding\n",
      "feeling of hopelessness\tC0150041\tFinding\n",
      "feeling of restlessness\tC0085631\tSign or Symptom\n",
      "feels there is no future\tC0150041\tFinding\n",
      "fidget\tC0424235\tFinding\n",
      "fidgeting\tC0424235\tFinding\n",
      "fidgets\tC0424235\tFinding\n",
      "fidgety\tC0424235\tFinding\n",
      "future hope\tC0150041\tFinding\n",
      "gluttony\tC0020505\tMental or Behavioral Dysfunction\n",
      "has died\tC1546956\tFinding\n",
      "hopeless\tC0150041\tFinding\n",
      "hopelessness\tC0150041\tFinding\n",
      "hyperactivity, psychomotor\tC0085631\tSign or Symptom\n",
      "hyperalimentation\tC0020505\tMental or Behavioral Dysfunction\n",
      "hyperphagia\tC0020505\tMental or Behavioral Dysfunction\n",
      "increased purposeless goalless activity\tC0085631\tSign or Symptom\n",
      "interest\tC0543488\tMental Process\n",
      "interested\tC0543488\tMental Process\n",
      "interesting\tC0543488\tMental Process\n",
      "interests\tC0543488\tMental Process\n",
      "loss of hope for the future\tC0150041\tFinding\n",
      "low mood\tC0344315\tFinding\n",
      "melancholic\tC0344315\tFinding\n",
      "melancholy\tC0344315\tFinding\n",
      "mental concentration\tC0086045\tMental Process\n",
      "mental status, drowsy\tC0013144\tFinding\n",
      "mindfulness\tC0086045\tMental Process\n",
      "miserable\tC0344315\tFinding\n",
      "morose mood\tC0344315\tFinding\n",
      "morosity\tC0344315\tFinding\n",
      "motor retardation\tC0424230\tFinding\n",
      "moving slow\tC0920289\tSign or Symptom\n",
      "negative about the future\tC0150041\tFinding\n",
      "no hope for the future\tC0150041\tFinding\n",
      "o/e - dead\tC1306577\tFinding\n",
      "o/e - dead - condition fatal\tC1306577\tFinding\n",
      "on examination - dead\tC1306577\tFinding\n",
      "over eating\tC0020505\tMental or Behavioral Dysfunction\n",
      "overeat\tC0020505\tMental or Behavioral Dysfunction\n",
      "overeating\tC0020505\tMental or Behavioral Dysfunction\n",
      "overeats\tC0020505\tMental or Behavioral Dysfunction\n",
      "patient dead\tC1306577\tFinding\n",
      "patient died\tC1306577\tFinding\n",
      "patient outcome - died\tC1546956\tFinding\n",
      "pleasurable emotion\tC0679105\tMental Process\n",
      "pleasure\tC0679105\tMental Process\n",
      "pleasures\tC0679105\tMental Process\n",
      "polyphagia\tC0020505\tMental or Behavioral Dysfunction\n",
      "polyphagias\tC0020505\tMental or Behavioral Dysfunction\n",
      "poorly\tC0205169\tQualitative Concept\n",
      "psychomotor agitation\tC0085631\tSign or Symptom\n",
      "psychomotor excitement\tC0085631\tSign or Symptom\n",
      "psychomotor hyperactivity\tC0085631\tSign or Symptom\n",
      "psychomotor restlessness\tC0085631\tSign or Symptom\n",
      "psychomotor retardation\tC0424230\tFinding\n",
      "restless\tC0085631\tSign or Symptom\n",
      "restlessness\tC0085631\tSign or Symptom\n",
      "restlessness behavior\tC0085631\tSign or Symptom\n",
      "restlessness behaviour\tC0085631\tSign or Symptom\n",
      "restlessness, psychomotor\tC0085631\tSign or Symptom\n",
      "sleepiness\tC0013144\tFinding\n",
      "sleeping\tC0424522\tFinding\n",
      "sleepy\tC0013144\tFinding\n",
      "slow\tC0439834\tQualitative Concept\n",
      "slow to move\tC0920289\tSign or Symptom\n",
      "slowing\tC0439834\tQualitative Concept\n",
      "slowly\tC0439834\tQualitative Concept\n",
      "sluggishness\tC0920289\tSign or Symptom\n",
      "somnolence\tC0013144\tFinding\n",
      "somnolent\tC0013144\tFinding\n",
      "suicide\tC0038661\tFinding\n",
      "suicide and depression\tC0812393\tMental or Behavioral Dysfunction\n",
      "suicides\tC0038661\tFinding\n",
      "tired\tC0557875\tSign or Symptom\n",
      "unable to keep still\tC0085631\tSign or Symptom\n",
      "vitality\tC0424589\tFinding\n"
     ]
    }
   ],
   "source": [
    "for t in sorted(termset):\n",
    "    row =  [t, termset[t][0],  termset[t][-1]]\n",
    "    print(\"\\t\".join(row))"
   ]
  },
  {
   "cell_type": "code",
   "execution_count": 23,
   "metadata": {
    "collapsed": false
   },
   "outputs": [
    {
     "name": "stdout",
     "output_type": "stream",
     "text": [
      "appetite\n",
      "asleep\n",
      "bad\n",
      "better off dead\n",
      "concentrating\n",
      "concentration\n",
      "dead\n",
      "depressed\n",
      "depressed\n",
      "eating\n",
      "energy\n",
      "fail\n",
      "failure\n",
      "feeling down\n",
      "fidgety\n",
      "hopeless\n",
      "hopeless\n",
      "hurt\n",
      "hurt self\n",
      "hurting\n",
      "interest\n",
      "let down\n",
      "moving slow\n",
      "overeating\n",
      "pleasure\n",
      "restless\n",
      "sleep\n",
      "sleeping\n",
      "sleepy\n",
      "slow\n",
      "slowly\n",
      "slowly\n",
      "speaking slow\n",
      "suicide\n",
      "tired\n"
     ]
    }
   ],
   "source": [
    "for t in sorted(terms):\n",
    "    print(t)"
   ]
  },
  {
   "cell_type": "code",
   "execution_count": null,
   "metadata": {
    "collapsed": true
   },
   "outputs": [],
   "source": []
  }
 ],
 "metadata": {
  "kernelspec": {
   "display_name": "Python 2",
   "language": "python",
   "name": "python2"
  },
  "language_info": {
   "codemirror_mode": {
    "name": "ipython",
    "version": 2
   },
   "file_extension": ".py",
   "mimetype": "text/x-python",
   "name": "python",
   "nbconvert_exporter": "python",
   "pygments_lexer": "ipython2",
   "version": "2.7.12"
  }
 },
 "nbformat": 4,
 "nbformat_minor": 2
}
